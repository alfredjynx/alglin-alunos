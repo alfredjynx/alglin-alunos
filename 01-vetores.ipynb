{
 "cells": [
  {
   "cell_type": "markdown",
   "metadata": {},
   "source": [
    "# Usando vetores para modelar movimentos em ambientes de jogos digitais\n",
    "\n",
    "Ao fim deste capítulo, o aluno será capaz de:\n",
    "1. Aplicar vetores, soma e subtração de vetores e produto de vetor por escalar para modelar ambientes de jogos em substituição a usar variáveis individuais e implementações adhoc.\n",
    "2. Usar representação polar e retangular para simplicar o modelamento de movimentos rotacionais. Normalizar o módulo de vetores para controlar velocidades em ambiente de jogo.\n",
    "3. Aplicar os conceitos de módulo, distância, direção e linearidade para gerar movimento em elementos virtuais.\n",
    "4. Produzir código-fonte que implementa um modelo de física newtoniana descrito somente matematicamente.\n",
    "\n",
    "Duração estimada: 6h para a exposição + 4h para o projeto"
   ]
  },
  {
   "cell_type": "code",
   "execution_count": 7,
   "metadata": {},
   "outputs": [],
   "source": [
    "# Pacotes necessários. Resolva essas dependências antes de prosseguir!\n",
    "import matplotlib.pyplot as plt\n",
    "import numpy as np\n",
    "import pygame\n",
    "from pygame.locals import *\n",
    "import math"
   ]
  },
  {
   "cell_type": "markdown",
   "metadata": {},
   "source": [
    "# Usar vetores em PyGame e em sua notação matemática"
   ]
  },
  {
   "cell_type": "markdown",
   "metadata": {},
   "source": [
    "## Exercício 1: alterar código de um jogo em PyGame para controlar movimentação do personagem\n",
    "\n",
    "Nesta exposição, usaremos o pacote PyGame para executar uma série de simulações em tempo real.\n",
    "\n",
    "1. Analise o código abaixo. Verifique se há alguma instrução que você nunca usou ou não se lembra para que serve, e, se for o caso, pergunte.\n",
    "2. Execute o código. Você deve ver um pequeno ponto verde navegando pela tela.\n",
    "3. Após executar, encontre o trecho de código que define a direção e a velocidade do ponto na tela. Modifique esse trecho para que, ao invés de ir para a esquerda e para cima, o personagem vá para a *direita* e para cima, mantendo a mesma velocidade. Teste seu código."
   ]
  },
  {
   "cell_type": "code",
   "execution_count": 8,
   "metadata": {},
   "outputs": [
    {
     "ename": "KeyboardInterrupt",
     "evalue": "",
     "output_type": "error",
     "traceback": [
      "\u001b[1;31m---------------------------------------------------------------------------\u001b[0m",
      "\u001b[1;31mKeyboardInterrupt\u001b[0m                         Traceback (most recent call last)",
      "\u001b[1;31mKeyboardInterrupt\u001b[0m: "
     ]
    }
   ],
   "source": [
    "pygame.init()\n",
    "\n",
    "# Tamanho da tela e definição do FPS\n",
    "screen = pygame.display.set_mode((400, 400))\n",
    "clock = pygame.time.Clock()\n",
    "FPS = 60  # Frames per Second\n",
    "\n",
    "BLACK = (0, 0, 0)\n",
    "COR_PERSONAGEM = (30, 200, 20)\n",
    "\n",
    "# Inicializar posicoes\n",
    "x0 = 200 # Posição inicial - eixo horizontal\n",
    "y0 = 200 # Posição inicial - eixo vertical\n",
    "x = x0\n",
    "y = y0\n",
    "\n",
    "# Personagem\n",
    "personagem = pygame.Surface((5, 5))  # Tamanho do personagem\n",
    "personagem.fill(COR_PERSONAGEM)  # Cor do personagem\n",
    "dx = 1\n",
    "dy = -1\n",
    "rodando = True\n",
    "while rodando:\n",
    "    # Capturar eventos\n",
    "    for event in pygame.event.get():\n",
    "        if event.type == pygame.QUIT:\n",
    "            rodando = False\n",
    "\n",
    "    # Controlar frame rate\n",
    "    clock.tick(FPS)\n",
    "\n",
    "    # Processar posicoes\n",
    "    dx = 0.99*(dx) # Velocidade e direção horizontal\n",
    "    dy = 0.99*(dy) # Velocidade e direção vertical\n",
    "    x = x + dx # Movimento uniforme!\n",
    "    y = y + dy # Movimento uniforme!\n",
    "    if x<10 or x>390 or y<10 or y>390: # Se eu chegar ao limite da tela, reinicio a posição do personagem\n",
    "        x, y = x0, y0\n",
    "        dx = 1\n",
    "        dy = -1\n",
    "    \n",
    "    if dx<0.0000000000000000000001 or dy<0.0000000000000000000001:\n",
    "        dx = 1\n",
    "        dy = -1\n",
    "\n",
    "    # Desenhar fundo\n",
    "    screen.fill(BLACK)\n",
    "\n",
    "    # Desenhar personagem\n",
    "    rect = pygame.Rect((x, y), (10, 10))  # First tuple is position, second is size.\n",
    "    screen.blit(personagem, rect)\n",
    "\n",
    "    # Update!\n",
    "    pygame.display.update()\n",
    "\n",
    "# Terminar tela\n",
    "pygame.quit()"
   ]
  },
  {
   "cell_type": "code",
   "execution_count": null,
   "metadata": {},
   "outputs": [],
   "source": []
  },
  {
   "cell_type": "markdown",
   "metadata": {},
   "source": [
    "## Exercício 2: relacionar a implementação de movimentos em Python à sua notação matemática\n",
    "\n",
    "No código acima, passamos várias vezes pelo laço `while rodando`. Cada uma dessas passagens é chamada de *iteração*. Podemos contar nossas iterações usando um índice `n`, que usamos para diferenciar, por exemplo, a primeira iteração da segunda iteração. O índice não precisa ser necessariamente declarado como uma variável no código se não formos usá-lo explicitamente.\n",
    "\n",
    "No código de nossa iteração, encontramos a passagem:\n",
    "\n",
    "`x = x + dx # Movimento uniforme!`\n",
    "\n",
    "Matematicamente, podemos expressar essa passagem como:\n",
    "\n",
    "$$\n",
    "x_n = x_{n-1} + \\Delta x,\n",
    "$$\n",
    "\n",
    "significando que $x$ na iteração $n$ (atual) deve ser igual ao valor de $x$ na iteração $n-1$ (anterior) somado de $\\Delta x$ ($\\Delta$ é a letra grega \"Delta\", e $\\Delta x$ é lido como \"Delta x\"). Nessa notação, podemos nos referir ao valor inicial de $x$ como $x_0$, a aos valores ao longo das iterações como $x_1$, $x_2$, $x_3$ e assim por diante.\n",
    "\n",
    "Modifique o código acima de forma que $\\Delta x$ mude ao longo das iterações da seguinte forma:\n",
    "\n",
    "$$\n",
    "\\begin{align*}\n",
    "\\Delta x_0 &=& 1\\\\\n",
    "\\Delta x_n &=& 0.99 (\\Delta x_{n-1}) \n",
    "\\end{align*}\n",
    "$$\n"
   ]
  },
  {
   "cell_type": "markdown",
   "metadata": {},
   "source": [
    "## Exercício 3: explicar como vetores do `numpy` podem representar várias dimensões simultaneamente\n",
    "\n",
    "O código abaixo usa a estrutura `array` do pacote `numpy` para representar a posição e a velocidade do ponto no jogo que analisamos anteriormente. Junto a uma equipe, explique:\n",
    "\n",
    "1. Como um `array` é usado para representar duas dimensões? Dica: se ficar em dúvida, coloque esse código lado a lado com o código do exercício 1.\n",
    "2. Como é a notação para acessar um elemento específico (uma dimensão, ou um eixo) de um `array`?\n",
    "3. Quando somamos dois `array`s, quais são os elementos do `array` resultante?\n",
    "4. Modifique o código baseado em `array`s para que o personagem ande *para baixo e para a direita* com o dobro da velocidade que está andando originalmente."
   ]
  },
  {
   "cell_type": "code",
   "execution_count": null,
   "metadata": {},
   "outputs": [],
   "source": [
    "import numpy as np\n",
    "import pygame\n",
    "from pygame.locals import *\n",
    "\n",
    "pygame.init()\n",
    "\n",
    "# Tamanho da tela e definição do FPS\n",
    "screen = pygame.display.set_mode((400, 400))\n",
    "clock = pygame.time.Clock()\n",
    "FPS = 60  # Frames per Second\n",
    "\n",
    "BLACK = (0, 0, 0)\n",
    "COR_PERSONAGEM = (30, 200, 20)\n",
    "\n",
    "# Inicializar posicoes\n",
    "s0 = np.array([100,300])\n",
    "v0 = np.array([1, -1])\n",
    "s = s0\n",
    "v = v0\n",
    "\n",
    "# Personagem\n",
    "personagem = pygame.Surface((5, 5))  # Tamanho do personagem\n",
    "personagem.fill(COR_PERSONAGEM)  # Cor do personagem\n",
    "\n",
    "rodando = True\n",
    "while rodando:\n",
    "    # Capturar eventos\n",
    "    for event in pygame.event.get():\n",
    "        if event.type == pygame.QUIT:\n",
    "            rodando = False\n",
    "\n",
    "    # Controlar frame rate\n",
    "    clock.tick(FPS)\n",
    "\n",
    "    # Processar posicoes\n",
    "    s = s + v\n",
    "    v = 1.01*v\n",
    "    if s[0]<10 or s[0]>390 or s[1]<10 or s[1]>390: # Se eu chegar ao limite da tela, reinicio a posição do personagem\n",
    "        s = s0\n",
    "        v = v0\n",
    "\n",
    "    # Desenhar fundo\n",
    "    screen.fill(BLACK)\n",
    "\n",
    "    # Desenhar personagem\n",
    "    rect = pygame.Rect(s, (10, 10))  # First tuple is position, second is size.\n",
    "    screen.blit(personagem, rect)\n",
    "\n",
    "    # Update!\n",
    "    pygame.display.update()\n",
    "\n",
    "# Terminar tela\n",
    "pygame.quit()"
   ]
  },
  {
   "cell_type": "markdown",
   "metadata": {},
   "source": [
    "## Exercício 4: relacionar a notação matemática à notação vetorial em código\n",
    "\n",
    "Arrays de numpy são representações computacionais de vetores. Quando nos referimos a vetores em notação matemática, é comum usarmos letras minúsculas em negrito (diferenciando o vetor $\\boldsymbol{x}$ do número real $x$), ou letras com uma seta como em: $\\overrightarrow{x}$.\n",
    "\n",
    "Para nos referirmos a elementos específicos de um vetor, podemos usar a notação de subscrito ($x_i$ para representar o i-ésimo elemento do vetor) ou então a notação colchetes ($x[i]$). Importante: se optarmos por usar a notação subscrito, é importante deixar claro se estamos nos referindo a um elemento de vetor ou a iterações de uma variável. Em especial, se quisermos nos referir simultaneamente a iterações e a elementos do vetor então devemos tomar um cuidado especial, e possivelmente usar uma notação mista como $x_n[i]$ para significar o i-ésimo elemento do vetor durante a n-ésima iteração.\n",
    "\n",
    "Use a notação matemática para descrever a modificação do vetor $\\boldsymbol {s}$ a cada iteração do código do exercício 3.\n"
   ]
  },
  {
   "cell_type": "markdown",
   "metadata": {},
   "source": [
    "## Exercício 5: gerar código computacional à partir de um modelo matemático\n",
    "\n",
    "Transforme o código do exercício 3 para que o movimento passe a seguir o seguinte modelo matemático:\n",
    "\n",
    "$$\n",
    "\\begin{align*}\n",
    "\\boldsymbol {v_0} &=& [1, -1]\\\\\n",
    "\\boldsymbol {v_n} &=& 0.99 \\boldsymbol {v_{n-1}}\\\\\n",
    "\\boldsymbol {s_0} &=& [100, 300]\\\\\n",
    "\\boldsymbol {s_n} &=& \\boldsymbol{s_{n-1}} + \\boldsymbol {v_n}\n",
    "\\end{align*}\n",
    "$$"
   ]
  },
  {
   "cell_type": "markdown",
   "metadata": {},
   "source": [
    "## Exercício 6: escrever em notação matemática o processo de soma de vetores\n",
    "\n",
    "Até o momento, usamos várias vezes a operação de *soma* em vetores. Vamos analisá-la mais cuidadosamente.\n",
    "\n",
    "O código abaixo mostra um exemplo mínimo de soma de vetores que implementa a equação: $\\boldsymbol{c} = \\boldsymbol{a} + \\boldsymbol{b}$.\n",
    "\n",
    "Manipule os valores dos vetores $\\boldsymbol{a}$ e $\\boldsymbol{b}$ para inferir como cada elemento do vetor $\\boldsymbol{c}$ é calculado. Complete a equação:\n",
    "$$\n",
    "c_i = ???\n",
    "$$"
   ]
  },
  {
   "cell_type": "code",
   "execution_count": null,
   "metadata": {},
   "outputs": [
    {
     "name": "stdout",
     "output_type": "stream",
     "text": [
      "[3 4]\n"
     ]
    }
   ],
   "source": [
    "a = np.array([1, 1])\n",
    "b = np.array([2, 3])\n",
    "c = a + b\n",
    "print(c)"
   ]
  },
  {
   "cell_type": "code",
   "execution_count": null,
   "metadata": {},
   "outputs": [
    {
     "ename": "ValueError",
     "evalue": "operands could not be broadcast together with shapes (3,) (2,) ",
     "output_type": "error",
     "traceback": [
      "\u001b[1;31m---------------------------------------------------------------------------\u001b[0m",
      "\u001b[1;31mValueError\u001b[0m                                Traceback (most recent call last)",
      "\u001b[1;32mc:\\Users\\jalfr\\Desktop\\Python\\Algebra Linear\\alglin-alunos\\01-vetores.ipynb Célula 14\u001b[0m in \u001b[0;36m<cell line: 3>\u001b[1;34m()\u001b[0m\n\u001b[0;32m      <a href='vscode-notebook-cell:/c%3A/Users/jalfr/Desktop/Python/Algebra%20Linear/alglin-alunos/01-vetores.ipynb#X16sZmlsZQ%3D%3D?line=0'>1</a>\u001b[0m a \u001b[39m=\u001b[39m np\u001b[39m.\u001b[39marray([\u001b[39m1\u001b[39m, \u001b[39m1\u001b[39m, \u001b[39m2\u001b[39m])\n\u001b[0;32m      <a href='vscode-notebook-cell:/c%3A/Users/jalfr/Desktop/Python/Algebra%20Linear/alglin-alunos/01-vetores.ipynb#X16sZmlsZQ%3D%3D?line=1'>2</a>\u001b[0m b \u001b[39m=\u001b[39m np\u001b[39m.\u001b[39marray([\u001b[39m2\u001b[39m, \u001b[39m3\u001b[39m])\n\u001b[1;32m----> <a href='vscode-notebook-cell:/c%3A/Users/jalfr/Desktop/Python/Algebra%20Linear/alglin-alunos/01-vetores.ipynb#X16sZmlsZQ%3D%3D?line=2'>3</a>\u001b[0m \u001b[39mprint\u001b[39m(a\u001b[39m+\u001b[39;49mb)\n",
      "\u001b[1;31mValueError\u001b[0m: operands could not be broadcast together with shapes (3,) (2,) "
     ]
    }
   ],
   "source": [
    "a = np.array([1, 1, 2])\n",
    "b = np.array([2, 3])\n",
    "print(a+b)"
   ]
  },
  {
   "cell_type": "markdown",
   "metadata": {},
   "source": [
    "## Exercício 7: identificar o que ocorre quando somamos vetores de tamanhos diferentes\n",
    "\n",
    "1. O que aconteceria no código do exercício 6 se os vetores $\\boldsymbol{a}$ e $\\boldsymbol{b}$ tiverem um número diferente de elementos (por exemplo, se `a = np.array([1, 2, 3, 4)` e `b = np.array([1, 2])`?\n",
    "2. De acordo com a equação que você escreveu para $c_i$, onde está a incompatibilidade?"
   ]
  },
  {
   "cell_type": "markdown",
   "metadata": {},
   "source": [
    "## Exercício 8: escrever em notação matemática o processo de multiplicação de vetores por números reais\n",
    "\n",
    "Outra operação que fizemos com vetores foi multiplicá-los por números reais. O código abaixo implementa a multiplicação: $\\boldsymbol {c} = a \\boldsymbol{b}$.\n",
    "\n",
    "Manipule os valores iniciais dos vetores para inferir como cada elemento do vetor $\\boldsymbol{c}$ é calculado. Complete a equação:\n",
    "$$\n",
    "c_i = ???\n",
    "$$"
   ]
  },
  {
   "cell_type": "code",
   "execution_count": null,
   "metadata": {},
   "outputs": [
    {
     "name": "stdout",
     "output_type": "stream",
     "text": [
      "[0.5 1.  1.5 2.  2.5 3. ]\n"
     ]
    }
   ],
   "source": [
    "a = 0.5\n",
    "b = np.array([1, 2, 3, 4, 5, 6])\n",
    "c = a * b\n",
    "print(c)"
   ]
  },
  {
   "cell_type": "code",
   "execution_count": null,
   "metadata": {},
   "outputs": [],
   "source": []
  },
  {
   "cell_type": "markdown",
   "metadata": {},
   "source": [
    "## Exercício 9: usar a subtração de vetores para descobrir a direção que leva de um ponto a outro\n",
    "\n",
    "Suponha que estamos numa posição $\\boldsymbol {s}$ em nossa tela. Gostaríamos de dar um passo para chegar à posição  $\\boldsymbol {y}$ somando uma variação $\\boldsymbol {v}$ ao vetor $\\boldsymbol {s}$, isto é:\n",
    "\n",
    "$$\n",
    "\\boldsymbol {s} + \\boldsymbol {v} = \\boldsymbol {y} \n",
    "$$\n",
    "\n",
    "Nesse caso, podemos manipular algebricamente a equação e subtrair $\\boldsymbol {s}$ dos dois lados para encontrar:\n",
    "\n",
    "$$\n",
    "\\boldsymbol {v} = \\boldsymbol {y} - \\boldsymbol {s}\n",
    "$$\n",
    "\n",
    "Leia e execute o código abaixo. Passe o mouse sobre a tela que se abre e veja o que acontece. Após, responda:\n",
    "\n",
    "1. Que linha de código define a direção em que o ponto vai se mover a cada iteração?\n",
    "2. Na linha `s = s + 0.1 * v`, o que acontece se o número $0.1$ for trocado por um número menor, como $0.01$? E se for trocado por um número maior, como $0.7$? E se for trocado por um número negativo, como $-0.001$? E por um número maior que 1, como $1.1$? Por que esses comportamentos acontecem? Após esses testes, retorne o número para $0.1$."
   ]
  },
  {
   "cell_type": "code",
   "execution_count": null,
   "metadata": {},
   "outputs": [
    {
     "ename": "ValueError",
     "evalue": "setting an array element with a sequence.",
     "output_type": "error",
     "traceback": [
      "\u001b[1;31m---------------------------------------------------------------------------\u001b[0m",
      "\u001b[1;31mTypeError\u001b[0m                                 Traceback (most recent call last)",
      "\u001b[1;31mTypeError\u001b[0m: only size-1 arrays can be converted to Python scalars",
      "\nThe above exception was the direct cause of the following exception:\n",
      "\u001b[1;31mValueError\u001b[0m                                Traceback (most recent call last)",
      "\u001b[1;32mc:\\Users\\jalfr\\Desktop\\Python\\Algebra Linear\\alglin-alunos\\01-vetores.ipynb Célula 20\u001b[0m in \u001b[0;36m<cell line: 25>\u001b[1;34m()\u001b[0m\n\u001b[0;32m     <a href='vscode-notebook-cell:/c%3A/Users/jalfr/Desktop/Python/Algebra%20Linear/alglin-alunos/01-vetores.ipynb#X25sZmlsZQ%3D%3D?line=36'>37</a>\u001b[0m v \u001b[39m=\u001b[39m v \u001b[39m+\u001b[39m a\u001b[39m*\u001b[39mdt\n\u001b[0;32m     <a href='vscode-notebook-cell:/c%3A/Users/jalfr/Desktop/Python/Algebra%20Linear/alglin-alunos/01-vetores.ipynb#X25sZmlsZQ%3D%3D?line=37'>38</a>\u001b[0m x \u001b[39m=\u001b[39m x \u001b[39m+\u001b[39m v\u001b[39m*\u001b[39mdt\n\u001b[1;32m---> <a href='vscode-notebook-cell:/c%3A/Users/jalfr/Desktop/Python/Algebra%20Linear/alglin-alunos/01-vetores.ipynb#X25sZmlsZQ%3D%3D?line=38'>39</a>\u001b[0m s[\u001b[39m0\u001b[39m] \u001b[39m=\u001b[39m x\n\u001b[0;32m     <a href='vscode-notebook-cell:/c%3A/Users/jalfr/Desktop/Python/Algebra%20Linear/alglin-alunos/01-vetores.ipynb#X25sZmlsZQ%3D%3D?line=39'>40</a>\u001b[0m y \u001b[39m=\u001b[39m pygame\u001b[39m.\u001b[39mmouse\u001b[39m.\u001b[39mget_pos()\n\u001b[0;32m     <a href='vscode-notebook-cell:/c%3A/Users/jalfr/Desktop/Python/Algebra%20Linear/alglin-alunos/01-vetores.ipynb#X25sZmlsZQ%3D%3D?line=40'>41</a>\u001b[0m v \u001b[39m=\u001b[39m (y \u001b[39m-\u001b[39m s)\u001b[39m*\u001b[39m\u001b[39m1.2\u001b[39m \u001b[39m+\u001b[39m v\u001b[39m*\u001b[39m\u001b[39m0.8\u001b[39m\n",
      "\u001b[1;31mValueError\u001b[0m: setting an array element with a sequence."
     ]
    }
   ],
   "source": [
    "pygame.init()\n",
    "\n",
    "# Tamanho da tela e definição do FPS\n",
    "screen = pygame.display.set_mode((400, 400))\n",
    "clock = pygame.time.Clock()\n",
    "FPS = 60  # Frames per Second\n",
    "dt = 1/FPS\n",
    "\n",
    "BLACK = (0, 0, 0)\n",
    "COR_PERSONAGEM = (30, 200, 20)\n",
    "\n",
    "# Inicializar posicoes\n",
    "s0 = np.array([0,200])\n",
    "v = np.array([0,0])\n",
    "a = np.array([0,0])\n",
    "s = s0\n",
    "k = 1\n",
    "m = 1\n",
    "\n",
    "# Personagem\n",
    "personagem = pygame.Surface((5, 5))  # Tamanho do personagem\n",
    "personagem.fill(COR_PERSONAGEM)  # Cor do personagem\n",
    "\n",
    "rodando = True\n",
    "while rodando:\n",
    "    # Capturar eventos\n",
    "    for event in pygame.event.get():\n",
    "        if event.type == pygame.QUIT:\n",
    "            rodando = False\n",
    "\n",
    "    # Controlar frame rate\n",
    "    clock.tick(FPS)\n",
    "\n",
    "    # Processar posicoes\n",
    "    f = -k*s[0]\n",
    "    a = f/m\n",
    "    v = v + a*dt\n",
    "    x = x + v*dt\n",
    "    s[0] = x\n",
    "    y = pygame.mouse.get_pos()\n",
    "    v = (y - s)*1.2 + v*0.8\n",
    "    s = s + 0.2*v\n",
    "\n",
    "    # Desenhar fundo\n",
    "    screen.fill(BLACK)\n",
    "\n",
    "    # Desenhar personagem\n",
    "    rect = pygame.Rect(s, (10, 10))  # First tuple is position, second is size.\n",
    "    screen.blit(personagem, rect)\n",
    "\n",
    "    # Update!\n",
    "    pygame.display.update()\n",
    "\n",
    "# Terminar tela\n",
    "pygame.quit()"
   ]
  },
  {
   "cell_type": "markdown",
   "metadata": {},
   "source": [
    "# Relacionar vetores a triângulos"
   ]
  },
  {
   "cell_type": "markdown",
   "metadata": {},
   "source": [
    "## Exercício 10: representar vetores em um plano usando `matplotlib`\n",
    "\n",
    "Em geral, vetores são representados em um plano cartesiano usando uma seta que parte da origem do plano. Podemos usar o módulo `matplotlib` para desenhar vetores, como no código abaixo. À partir desse código e da figura gerada:\n",
    "\n",
    "1. Identifique na figura os vetores $\\boldsymbol{x}=[1,-1]$, $\\boldsymbol{y}=[1,2]$ e $\\boldsymbol{z}=[-1.5,1.5]$\n",
    "2. Insira na figura um vetor $\\boldsymbol{w}=[-1,-0.5]$"
   ]
  },
  {
   "cell_type": "code",
   "execution_count": null,
   "metadata": {},
   "outputs": [
    {
     "data": {
      "image/png": "[encoded data removed]",
      "text/plain": [
       "<Figure size 360x360 with 1 Axes>"
      ]
     },
     "metadata": {
      "needs_background": "light"
     },
     "output_type": "display_data"
    }
   ],
   "source": [
    "plt.figure(figsize=(5,5))\n",
    "plt.arrow(0,0,1,2,length_includes_head=True,head_width=0.1,)\n",
    "plt.arrow(0,0,-1.5,1.5,length_includes_head=True,head_width=0.1)\n",
    "plt.arrow(0,0,1,-1,length_includes_head=True,head_width=0.1)\n",
    "plt.arrow(0,0,-1,-0.5,length_includes_head=True,head_width=0.1)\n",
    "plt.xlim([-2,2])\n",
    "plt.ylim([-2,2])\n",
    "plt.grid()\n",
    "plt.show()"
   ]
  },
  {
   "cell_type": "code",
   "execution_count": null,
   "metadata": {},
   "outputs": [],
   "source": []
  },
  {
   "cell_type": "markdown",
   "metadata": {},
   "source": [
    "## Exercício 11: relacionar um vetor à hipotenusa de um triângulo retângulo\n",
    "\n",
    "Veja a figura abaixo. A seta correspondente ao vetor cobre a [hipotenusa](https://pt.wikipedia.org/wiki/Hipotenusa) de um [triângulo retângulo](https://pt.wikipedia.org/wiki/Tri%C3%A2ngulo_ret%C3%A2ngulo).\n",
    "\n",
    "1. Qual é o comprimento do [cateto](https://pt.wikipedia.org/wiki/Cateto) azul?\n",
    "2. Qual é o comprimento do [cateto](https://pt.wikipedia.org/wiki/Cateto) vermelho?\n",
    "3. Qual é o comprimento do vetor representado (dica: use o [Teorema de Pitágoras](https://www.mathsisfun.com/geometry/pythagorean-theorem-proof.html))?"
   ]
  },
  {
   "cell_type": "code",
   "execution_count": null,
   "metadata": {},
   "outputs": [
    {
     "data": {
      "image/png": "[encoded data removed]",
      "text/plain": [
       "<Figure size 360x360 with 1 Axes>"
      ]
     },
     "metadata": {
      "needs_background": "light"
     },
     "output_type": "display_data"
    }
   ],
   "source": [
    "plt.figure(figsize=(5,5))\n",
    "plt.arrow(0,0,1,2,length_includes_head=True,head_width=0.1)\n",
    "plt.plot([0,1], [0,0],'r')\n",
    "plt.plot([1,1], [0,2],'b')\n",
    "plt.xlim([-1,2])\n",
    "plt.ylim([-1,2])\n",
    "plt.grid()\n",
    "plt.show()"
   ]
  },
  {
   "cell_type": "markdown",
   "metadata": {},
   "source": [
    "## Exercício 12: calcular o módulo de vetores em duas dimensões\n",
    "\n",
    "O comprimento da seta que representa um vetor no plano cartesiano é chamado de *módulo* do vetor. Dependendo da referência bibliográfica, o módulo é também chamado de *norma*, ou de *comprimento*. O módulo de um vetor $\\boldsymbol {x}$ é representado usando barras verticais. Duas notações comuns são: $|\\boldsymbol{x}|$ e $||\\boldsymbol{x}||$. Como vimos, de acordo com o [Teorema de Pitágoras](https://www.mathsisfun.com/geometry/pythagorean-theorem-proof.html), o módulo de um vetor de duas dimensões pode ser calculado por:\n",
    "\n",
    "$$\n",
    "|\\boldsymbol{x}| = \\sqrt{x_1^2 + x_2^2}\n",
    "$$\n",
    "\n",
    "Calcule (manualmente ou programando! se achar necessário, faça um desenho) os módulos dos vetores:\n",
    "\n",
    "1. $[3, 4]$\n",
    "2. $[6, 8]$\n",
    "3. $[9, 12]$\n",
    "4. $[-3, 4]$\n",
    "5. $[-3, -4]$\n",
    "6. $[3, -4]$"
   ]
  },
  {
   "cell_type": "code",
   "execution_count": null,
   "metadata": {},
   "outputs": [
    {
     "name": "stdout",
     "output_type": "stream",
     "text": [
      "1. = 5.0\n",
      "2. = 10.0\n",
      "3. = 15.0\n",
      "4. = 5.0\n",
      "5. = 5.0\n",
      "6. = 5.0\n",
      "\n",
      "\n",
      "1. = 5.0\n",
      "2. = 10.0\n",
      "3. = 15.0\n",
      "4. = 5.0\n",
      "5. = 5.0\n",
      "6. = 5.0\n"
     ]
    }
   ],
   "source": [
    "print(f\"1. = {np.sqrt(3**2 + 4**2)}\")\n",
    "print(f\"2. = {np.sqrt(6**2 + 8**2)}\")\n",
    "print(f\"3. = {np.sqrt(9**2 + 12**2)}\")\n",
    "print(f\"4. = {np.sqrt((-3)**2 + 4**2)}\")\n",
    "print(f\"5. = {np.sqrt((-3)**2 + (-4)**2)}\")\n",
    "print(f\"6. = {np.sqrt(3**2 + (-4)**2)}\")\n",
    "\n",
    "\n",
    "print()\n",
    "print()\n",
    "\n",
    "\n",
    "def calcula_modulo(x): return np.sqrt(np.sum(x**2))\n",
    "\n",
    "\n",
    "l = [np.array([3,4]),np.array([6,8]),np.array([9,12]),np.array([-3,4]),np.array([-3,-4]),np.array([3,-4])]\n",
    "\n",
    "for i in range(len(l)):\n",
    "    print(f\"{i+1}. = {calcula_modulo(l[i])}\")"
   ]
  },
  {
   "cell_type": "markdown",
   "metadata": {},
   "source": [
    "## Exercício 13: calcular módulo de vetores em dimensão alta\n",
    "\n",
    "Quando um vetor tem mais de duas dimensões (por exemplo, $n$ dimensões), o Teorema de Pitágoras pode ser generalizado para encontrar o módulo:\n",
    "\n",
    "$$\n",
    "|\\boldsymbol{x}| = \\sqrt{x_1^2 + x_2^2 + x_3^2 + ... + x_n^2}\n",
    "$$\n",
    "\n",
    "Faça um programa em Python para encontrar o módulo do vetor $\\boldsymbol {x}$ definido abaixo (resposta esperada: `7.396`). Seu programa deve funcionar também para calcular o módulo do vetor $\\boldsymbol {y}$, que tem tamanho definido aleatoriamente a cada nova execução."
   ]
  },
  {
   "cell_type": "code",
   "execution_count": null,
   "metadata": {},
   "outputs": [
    {
     "name": "stdout",
     "output_type": "stream",
     "text": [
      "7.396542600431637\n",
      "3.3778029380113432\n"
     ]
    }
   ],
   "source": [
    "x = np.array([4, -2, 3, 2, 0.5, 0, 1, 2, 1, 3, 2, -1, 0.123, 0.432, 1.1212])\n",
    "y = np.random.random(np.random.randint(30,70))\n",
    "\n",
    "print(calcula_modulo(x))\n",
    "print(calcula_modulo(y))\n"
   ]
  },
  {
   "cell_type": "markdown",
   "metadata": {},
   "source": [
    "# Usar a representação polar de vetores"
   ]
  },
  {
   "cell_type": "markdown",
   "metadata": {},
   "source": [
    "## Exercício 14: calcular o ângulo entre um vetor e o eixo horizontal\n",
    "\n",
    "Neste exercício, calcularemos o (menor) ângulo entre o eixo horizontal (eixo x) e a seta que representa o vetor. Esse ângulo representa a direção do vetor e geralmente é referido como $\\phi$ (a letra grega *fi*). O ângulo é comumente chamado de *argumento*.\n",
    "\n",
    "1. Qual é o comprimento do vetor $\\boldsymbol{v}$ representado abaixo?\n",
    "2. Qual dos ângulos do triângulo formado na figura é $\\phi$?\n",
    "3. Qual é o [cosseno](https://pt.wikipedia.org/wiki/Cosseno) de $\\phi$?\n",
    "4. Usando seus conhecimentos de trigonometria, calcule $\\phi$ em [radianos](https://pt.wikipedia.org/wiki/Radiano) e em graus.\n",
    "5. Usando a função `np.arccos`, calcule $\\phi$ em [radianos](https://pt.wikipedia.org/wiki/Radiano) e em graus.\n",
    "6. Repita o exercício para $\\boldsymbol{v} = [1,2]$"
   ]
  },
  {
   "cell_type": "code",
   "execution_count": null,
   "metadata": {},
   "outputs": [],
   "source": [
    "def calcula_seno(x,comp): return x[1]/comp\n",
    "def calcula_cosseno(x,comp): return x[0]/comp"
   ]
  },
  {
   "cell_type": "code",
   "execution_count": null,
   "metadata": {},
   "outputs": [
    {
     "name": "stdout",
     "output_type": "stream",
     "text": [
      "1.4142135623730951\n",
      "0.7071067811865475\n",
      "0.7853981633974484 45.00000000000001\n"
     ]
    }
   ],
   "source": [
    "v = np.array([1, 1])\n",
    "comp_v = calcula_modulo(v)\n",
    "print(comp_v)\n",
    "cosseno_phi = calcula_cosseno(v,comp_v)\n",
    "print(cosseno_phi)\n",
    "phi_rad = np.arccos(cosseno_phi)\n",
    "print(phi_rad, np.degrees(phi_rad))"
   ]
  },
  {
   "cell_type": "code",
   "execution_count": null,
   "metadata": {},
   "outputs": [
    {
     "name": "stdout",
     "output_type": "stream",
     "text": [
      "2.23606797749979\n",
      "0.4472135954999579\n",
      "1.1071487177940904 63.43494882292201\n"
     ]
    }
   ],
   "source": [
    "v = np.array([1, 2])\n",
    "comp_v = calcula_modulo(v)\n",
    "print(comp_v)\n",
    "cosseno_phi = calcula_cosseno(v,comp_v)\n",
    "print(cosseno_phi)\n",
    "phi_rad = np.arccos(cosseno_phi)\n",
    "print(phi_rad, np.degrees(phi_rad))"
   ]
  },
  {
   "cell_type": "code",
   "execution_count": null,
   "metadata": {},
   "outputs": [
    {
     "data": {
      "image/png": "[encoded data removed]",
      "text/plain": [
       "<Figure size 360x360 with 1 Axes>"
      ]
     },
     "metadata": {
      "needs_background": "light"
     },
     "output_type": "display_data"
    }
   ],
   "source": [
    "v = np.array([1, 1])\n",
    "plt.figure(figsize=(5,5))\n",
    "plt.arrow(0,0,v[0],v[1],length_includes_head=True,head_width=0.1)\n",
    "plt.plot([0,v[0]], [0,0],'r')\n",
    "plt.plot([v[0],v[0]], [0,v[1]],'b')\n",
    "plt.xlim([-1,3])\n",
    "plt.ylim([-1,3])\n",
    "plt.grid()\n",
    "plt.show()"
   ]
  },
  {
   "cell_type": "markdown",
   "metadata": {},
   "source": [
    "## Exercício 15: calcular o efeito de multiplicações por escalares no módulo e no argumento de vetores\n",
    "\n",
    "Manipule o vetor $\\boldsymbol{v}$ no código abaixo para responder às seguintes questões:\n",
    "1. Inicialmente, calcule o módulo e o argumento de $\\boldsymbol{v}$.\n",
    "2. Calcule o módulo e o argumento de $2 \\boldsymbol{v}$\n",
    "3. Escolha um número positivo qualquer $a$ e calcule o módulo e o argumento de $a \\boldsymbol{v}$\n",
    "4. Escolha um número negativo qualquer $b$ e calcule o módulo e o argumento de $b \\boldsymbol{v}$\n",
    "5. Escreva: o que acontece com o módulo e o argumento de um vetor quando o vetor é multiplicado por um número qualquer?"
   ]
  },
  {
   "cell_type": "code",
   "execution_count": null,
   "metadata": {},
   "outputs": [
    {
     "name": "stdout",
     "output_type": "stream",
     "text": [
      "Módulo 0 = 8.06225774829855\n",
      "Argumento 0 = 60.255118703057796\n",
      "\n",
      "Módulo 1 = 16.1245154965971\n",
      "Argumento 1 = 60.255118703057796\n",
      "\n",
      "Módulo 2 = 451.4864339047188\n",
      "Argumento 2 = 60.25511870305777\n",
      "\n",
      "Módulo 3 = 104.80935072788114\n",
      "Argumento 3 = -60.255118703057796\n",
      "\n"
     ]
    }
   ],
   "source": [
    "v = np.array([4,7])\n",
    "l = [v, 2*v, 56*v, (-13)*v]\n",
    "\n",
    "for i in range (4):\n",
    "    print(f\"Módulo {i} = {calcula_modulo(l[i])}\")\n",
    "    print(f\"Argumento {i} = {np.degrees(np.arcsin(calcula_seno(l[i],calcula_modulo(l[i]))))}\")\n",
    "    print(\"\")"
   ]
  },
  {
   "cell_type": "code",
   "execution_count": null,
   "metadata": {},
   "outputs": [
    {
     "data": {
      "image/png": "[encoded data removed]",
      "text/plain": [
       "<Figure size 360x360 with 1 Axes>"
      ]
     },
     "metadata": {
      "needs_background": "light"
     },
     "output_type": "display_data"
    }
   ],
   "source": [
    "v = np.array([1, 1])\n",
    "plt.figure(figsize=(5,5))\n",
    "plt.arrow(0,0,v[0],v[1],length_includes_head=True,head_width=0.1)\n",
    "plt.plot([0,v[0]], [0,0],'r')\n",
    "plt.plot([v[0],v[0]], [0,v[1]],'b')\n",
    "plt.xlim([-1,3])\n",
    "plt.ylim([-1,3])\n",
    "plt.grid()\n",
    "plt.show()"
   ]
  },
  {
   "cell_type": "markdown",
   "metadata": {},
   "source": [
    "## Exercício 16: deduzir matematicamente o procedimento para normalizar um vetor\n",
    "\n",
    "Quando dois vetores têm o mesmo argumento, dizemos que eles têm a mesma direção.\n",
    "\n",
    "Se temos um vetor $\\boldsymbol{v}$ com módulo $|\\boldsymbol{v}|$, como podemos encontrar um vetor $\\boldsymbol{w}$ com a mesma direção de $\\boldsymbol{v}$ e com módulo igual a 1?"
   ]
  },
  {
   "cell_type": "markdown",
   "metadata": {},
   "source": [
    "## Exercício 17: usar operações vetoriais de `numpy` para calcular o módulo de vetores\n",
    "\n",
    "As três funções abaixo retornam o módulo de um vetor recebido como entrada.\n",
    "1. Verifique se essas funções retornam resultados corretos\n",
    "2. Qual das implementações você acha mais compacta? Por que?"
   ]
  },
  {
   "cell_type": "code",
   "execution_count": null,
   "metadata": {},
   "outputs": [],
   "source": [
    "def modulo_A(x):\n",
    "    mod = 0\n",
    "    for i in range(len(x)):\n",
    "        mod += x[i]**2\n",
    "    mod = mod**0.5\n",
    "    return mod\n",
    "\n",
    "def modulo_B(x):\n",
    "    mod = np.sqrt (np.sum(x**2))\n",
    "    return mod\n",
    "\n",
    "def modulo_C(x):\n",
    "    mod = np.linalg.norm(x)\n",
    "    return mod"
   ]
  },
  {
   "cell_type": "code",
   "execution_count": null,
   "metadata": {},
   "outputs": [
    {
     "name": "stdout",
     "output_type": "stream",
     "text": [
      "8.06225774829855 8.06225774829855 8.06225774829855 8.06225774829855\n"
     ]
    }
   ],
   "source": [
    "print(calcula_modulo(v), modulo_A(v), modulo_B(v), modulo_C(v))"
   ]
  },
  {
   "cell_type": "markdown",
   "metadata": {},
   "source": [
    "## Exercício 18: aplicar a normalização de vetor em um contexto de jogo digital\n",
    "\n",
    "O pequeno jogo abaixo foi trabalhado na aula anterior. Nele, um pequeno ponto verde segue o ponteiro do mouse. No comportamento que está implementado, o ponto verde se move mais rápido quando está distante do ponteiro, e mais lento quando se aproxima. \n",
    "\n",
    "1. Por que o ponto se move mais rapidamente quando está mais longe do ponteiro do mouse?\n",
    "2. Modifique o código de forma que o módulo da velocidade do ponto seja sempre constante e igual a 5."
   ]
  },
  {
   "cell_type": "code",
   "execution_count": null,
   "metadata": {},
   "outputs": [],
   "source": [
    "pygame.init()\n",
    "\n",
    "# Tamanho da tela e definição do FPS\n",
    "screen = pygame.display.set_mode((400, 400))\n",
    "clock = pygame.time.Clock()\n",
    "FPS = 60  # Frames per Second\n",
    "\n",
    "BLACK = (0, 0, 0)\n",
    "COR_PERSONAGEM = (30, 200, 20)\n",
    "\n",
    "# Inicializar posicoes\n",
    "s0 = np.array([200,200])\n",
    "v = np.array([-1, -1])\n",
    "s = s0\n",
    "\n",
    "# Personagem\n",
    "personagem = pygame.Surface((5, 5))  # Tamanho do personagem\n",
    "personagem.fill(COR_PERSONAGEM)  # Cor do personagem\n",
    "\n",
    "rodando = True\n",
    "while rodando:\n",
    "    # Capturar eventos\n",
    "    for event in pygame.event.get():\n",
    "        if event.type == pygame.QUIT:\n",
    "            rodando = False\n",
    "\n",
    "    # Controlar frame rate\n",
    "    clock.tick(FPS)\n",
    "\n",
    "    # Processar posicoes\n",
    "    y = pygame.mouse.get_pos()\n",
    "    v = y - s\n",
    "    mv = calcula_modulo(v)\n",
    "    v = v/mv\n",
    "    v = 5*v\n",
    "    # s = s + 5*v/calcula_modulo(v)\n",
    "    s = s + v\n",
    "    # s = 5/calcula_modulo(v)\n",
    "\n",
    "    # Desenhar fundo\n",
    "    screen.fill(BLACK)\n",
    "\n",
    "    # Desenhar personagem\n",
    "    rect = pygame.Rect(s, (10, 10))  # First tuple is position, second is size.\n",
    "    screen.blit(personagem, rect)\n",
    "\n",
    "    # Update!\n",
    "    pygame.display.update()\n",
    "\n",
    "# Terminar tela\n",
    "pygame.quit()"
   ]
  },
  {
   "cell_type": "code",
   "execution_count": null,
   "metadata": {},
   "outputs": [
    {
     "name": "stdout",
     "output_type": "stream",
     "text": [
      "1.3711309200802089\n"
     ]
    }
   ],
   "source": [
    "x = np.array([0.1,0.9,0.9,0.5])\n",
    "print(calcula_modulo(x))"
   ]
  },
  {
   "cell_type": "code",
   "execution_count": null,
   "metadata": {},
   "outputs": [
    {
     "name": "stdout",
     "output_type": "stream",
     "text": [
      "24.95996794869737 25.215182040953046\n"
     ]
    }
   ],
   "source": [
    "v1 = np.array([7,4,8,9])\n",
    "v2 = np.array([4,5,7,5])\n",
    "\n",
    "print(calcula_modulo(v1+v2), calcula_modulo(v1) + calcula_modulo(v2))"
   ]
  },
  {
   "cell_type": "code",
   "execution_count": null,
   "metadata": {},
   "outputs": [
    {
     "data": {
      "text/plain": [
       "11.313708498984761"
      ]
     },
     "execution_count": 34,
     "metadata": {},
     "output_type": "execute_result"
    }
   ],
   "source": [
    "calcula_modulo(np.array([8,8]))"
   ]
  },
  {
   "cell_type": "code",
   "execution_count": 3,
   "metadata": {},
   "outputs": [
    {
     "name": "stdout",
     "output_type": "stream",
     "text": [
      "3.9244138276671308 3.0982214428951034\n"
     ]
    }
   ],
   "source": [
    "import numpy as np\n",
    "n = np.sqrt(19**2 + 15**2)\n",
    "print(19/n*5,15/n*5)"
   ]
  },
  {
   "cell_type": "code",
   "execution_count": null,
   "metadata": {},
   "outputs": [
    {
     "data": {
      "text/plain": [
       "array([0.23, 0.11, 0.36, 0.22, 0.26, 0.25, 0.49])"
      ]
     },
     "execution_count": 2,
     "metadata": {},
     "output_type": "execute_result"
    }
   ],
   "source": [
    "import numpy as np\n",
    "import math\n",
    "\n",
    "v = np.array([[0.41, 0.02, 0.99, 0.75, 0.33, 0.02, 0.79], [0.20, 0.03, 0.66, 0.61, 0.54, 0.54, 0.91], [0.15, 0.72, 0.98, 0.13, 0.73, 0.78, 0.90], [0.81, 0.21, 0.98, 0.22, 0.73, 0.81, 0.01], [0.55, 0.28, 0.29, 0.32, 0.31, 0.22, 0.03], [0.30, 0.09, 0.54, 0.40, 0.24, 0.89, 0.35], [0.23, 0.08, 0.20, 0.03, 0.88, 0.85, 0.28], [0.03, 0.65, 0.69, 0.23, 0.14, 0.46, 0.13], [0.23, 0.11, 0.36, 0.22, 0.26, 0.25, 0.49], [0.90, 0.43, 0.18, 0.74, 0.14, 0.00, 0.54], [0.18, 0.09, 0.09, 0.77, 0.32, 0.11, 0.21], [0.80, 0.18, 1.00, 0.50, 0.79, 0.17, 0.36]])\n",
    "origem = [0,0,0,0,0,0,0]\n",
    "\n",
    "dist = 10000000000\n",
    "prox = 0\n",
    "for value in v:\n",
    "    if dist>math.dist(origem,value):\n",
    "        prox = value\n",
    "        dist = math.dist(origem,value)\n",
    "    # print(value)\n",
    "\n",
    "prox"
   ]
  },
  {
   "cell_type": "markdown",
   "metadata": {},
   "source": [
    "# Implementar sistemas dinâmicos"
   ]
  },
  {
   "cell_type": "markdown",
   "metadata": {},
   "source": [
    "## Exercício 19: analisar os efeitos da aceleração no movimento uniformemente variado\n",
    "\n",
    "O código abaixo simula uma situação na qual jogamos uma pequena pedra do alto de um prédio. Na simulação, temos dois fenômenos que acontecem a cada iteração. Primeiro, a velocidade é alterada através da expressão $\\boldsymbol {v_n} = \\boldsymbol {v_{n-1}} + a$. Depois disso, a posição é alterada pela expressão  $\\boldsymbol {s_n} = \\boldsymbol {s_{n-1}} + \\boldsymbol{v}_{n}$.\n",
    "\n",
    "1. No código abaixo, qual linha implementa a expressão $\\boldsymbol {v_n} = \\boldsymbol {v_{n-1}} + a$?\n",
    "2. No código abaixo, qual linha implementa a expressão $\\boldsymbol {s_n} = \\boldsymbol {s_{n-1}} + \\boldsymbol{v}_{n}$\n",
    "3. Por que uma das componentes da variável `a` é zero?\n",
    "4. Modifique o código para que a pedra seja arremessada com uma velocidade inicial com módulo mais alto\n",
    "5. Modifique o código para que a gravidade seja mais suave que a incialmente projetada\n",
    "   "
   ]
  },
  {
   "cell_type": "code",
   "execution_count": 44,
   "metadata": {},
   "outputs": [],
   "source": [
    "import pygame\n",
    "import numpy as np\n",
    "\n",
    "pygame.init()\n",
    "\n",
    "# Tamanho da tela e definição do FPS\n",
    "screen = pygame.display.set_mode((400, 400))\n",
    "clock = pygame.time.Clock()\n",
    "FPS = 60  # Frames per Second\n",
    "\n",
    "BLACK = (0, 0, 0, 0.2)\n",
    "COR_PERSONAGEM = (30, 200, 20)\n",
    "N = 1000\n",
    "# Inicializar posicoes\n",
    "s0 = np.array([50,200])\n",
    "v0 = np.array([10, -10])\n",
    "# a = np.array([0, 0.2])\n",
    "v = [v0 for i in range(N)]\n",
    "s = [s0 for i in range(N)]\n",
    "corpo = np.array([100,100])\n",
    "corpo2 = np.array([300,300])\n",
    "# corpo = np.array([200,200])\n",
    "# v = v0\n",
    "# s = s0\n",
    "\n",
    "# Personagem\n",
    "personagem = pygame.Surface((5, 5))  # Tamanho do personagem\n",
    "personagem.fill(COR_PERSONAGEM)  # Cor do personagem\n",
    "\n",
    "rodando = True\n",
    "while rodando:\n",
    "    # Capturar eventos\n",
    "    for event in pygame.event.get():\n",
    "        if event.type == pygame.QUIT:\n",
    "            rodando = False\n",
    "\n",
    "    for i in range(N):\n",
    "        if s[i][0]<10 or s[i][0]>390 or s[i][1]<10 or s[i][1]>390: # Se eu chegar ao limite da tela, reinicio a posição do personagem\n",
    "            rndm = np.random.randn(2)\n",
    "            mous_pos = pygame.mouse.get_pos()\n",
    "            v1 = mous_pos-s0\n",
    "            norm = np.linalg.norm(v1)\n",
    "            s[i], v[i] = s0, v1/norm*10+rndm*4\n",
    "\n",
    "    # Controlar frame rate\n",
    "    clock.tick(FPS)\n",
    "\n",
    "    # Processar posicoes\n",
    "    for i in range(N):\n",
    "        C = 350\n",
    "        y = corpo - s[i]\n",
    "        d = np.linalg.norm(y)\n",
    "        direcao_a = y /d\n",
    "\n",
    "        mag_a = C / d**2\n",
    "        a = direcao_a * mag_a\n",
    "\n",
    "        y2 = corpo2 - s[i]\n",
    "        d2 = np.linalg.norm(y2)\n",
    "        direcao_a2 = y2/d2\n",
    "\n",
    "        mag_a2 = C/d2**2\n",
    "        a2 = direcao_a2 * mag_a2\n",
    "\n",
    "        v[i] = v[i] + a*5 + a2*15 \n",
    "        # v[i] = v[i] + a*10\n",
    "        s[i] = s[i] + 0.1 * v[i]\n",
    "\n",
    "    # v = v + a\n",
    "    # s = s + 0.1 * v\n",
    "\n",
    "    # Desenhar fundo\n",
    "    screen.fill(BLACK)\n",
    "\n",
    "    # Desenhar personagem\n",
    "    for i in range(N):\n",
    "        rect = pygame.Rect(s[i], (10, 10))  # First tuple is position, second is size.\n",
    "        screen.blit(personagem, rect)\n",
    "\n",
    "    pygame.draw.circle(screen,\"BLUE\",corpo,15,0)\n",
    "    pygame.draw.circle(screen,\"RED\",corpo2,15,0)\n",
    "\n",
    "    # Update!\n",
    "    pygame.display.update()\n",
    "\n",
    "# Terminar tela\n",
    "pygame.quit()"
   ]
  },
  {
   "cell_type": "markdown",
   "metadata": {},
   "source": [
    "## Exercício 20: adicionar aleatoriedade ao sistema de partículas\n",
    "\n",
    "Modifique o código do exercício 19 de forma que a velocidade inicial da pedra seja levemente diferente a cada vez que ela é \"jogada\". Uma das maneiras de conseguir isso é usar um vetor de números aleatórios (`rnd = np.random.randn(2)`) que é multiplicado por algum fator de escala (experimente vários, de acordo com como gostar) e então somado à velocidade da partícula no momento em que ela é re-criada."
   ]
  },
  {
   "cell_type": "markdown",
   "metadata": {},
   "source": [
    "## Exercício 21: adicionar interatividade ao sistema de partículas\n",
    "\n",
    "Modifique novamente o código do exercício 19 de forma que, em adição à modificação feita no exercício 20, as partículas sejam disparadas sempre na direção do ponteiro do mouse do jogador."
   ]
  },
  {
   "cell_type": "markdown",
   "metadata": {},
   "source": [
    "## Exercício 22: operar com várias partículas simultaneamente\n",
    "\n",
    "Modifique novamente o código do exercício 19. Em adição às modificações já feitas, faça com que a simulação agora tenha 50 pedras operando simultaneamente, que são inicializadas do mesmo ponto (fazendo uma espécie de \"metralhadora\"). Como seria uma boa maneira de representar as posições e velocidades de 50 pedras diferentes?\n",
    "\n",
    "Após, altere o número máximo de partículas de sua simulação. Até quantas partículas você consegue simular sem ter travamentos na sua máquina?"
   ]
  },
  {
   "cell_type": "markdown",
   "metadata": {},
   "source": [
    "## Exercício 23: adicionar um atrator gravitacional\n",
    "\n",
    "Neste momento, estamos pensando na simulação do exercício 19 como jogar pedras de um penhasco. Agora, vamos pensar nela como jogar pequenos meteoritos no espaço sideral. Para isso:\n",
    "\n",
    "1. Escolha algum ponto da tela em que haverá um corpo celeste maior.\n",
    "2. Desenhe um círculo ao redor desse ponto, de forma a indicar onde ele se encontra.\n",
    "3. Remova a gravidade \"global\" que está sendo aplicada a todas as partículas simultaneamente.\n",
    "4. A cada iteração, para cada partícula, recalcule a aceleração devida à gravidade. Lembre-se que a aceleração gravitacional é um vetor com módulo $|a| = \\frac{c}{d^2}$, onde $c$ é uma constante (na verdade ela tem um significado físico, mas aqui podemos escolher para o valor que deixar sua simulação mais agradável) e $d$ é a distância entre os dois corpos. A aceleração gravitacional aplicada sobre cada partícula sempre aponta para o corpo celeste para onde a partícula está sendo atraída.\n",
    "5. Lembre-se de adicionar uma condição para que a partícula seja reiniciada caso se aproxime demais do corpo celeste.\n",
    "6. Modifique os parâmetros e constantes da sua simulação de forma que seja possível deixar algumas partículas em órbita."
   ]
  },
  {
   "cell_type": "markdown",
   "metadata": {},
   "source": [
    "## Exercício 24: adicionar um novo atrator gravitacional\n",
    "\n",
    "Tomando por base o código que você já tem do exercício 23 (que é o código do exercício 19 modificado!), adicione um novo atrator gravitacional, em um outro ponto da tela. Ao fazer isso, passamos a ter dois corpos celestes exercendo atração gravitacional sobre nossas partículas. Quando isso acontece, a aceleração resultante sobre cada partícula é a soma (vetorial) de cada uma das atrações devidas aos corpos celestes individualmente.\n",
    "\n",
    "Modifique seus parâmetros e interaja com o sistema de forma que algumas partículas fiquem em órbita de um corpo celeste e outras partículas fiquem em órbita do outro corpo celeste.\n"
   ]
  },
  {
   "cell_type": "markdown",
   "metadata": {},
   "source": [
    "# Projeto: jogo estilo \"Angry Birds no espaço\"\n",
    "\n",
    "Neste projeto, faremos um jogo no estilo \"Angry Birds no espaço\".\n",
    "\n",
    "O jogo funciona da seguinte forma:\n",
    "\n",
    "1. O objetivo é acertar um objeto em um alvo (o grupo pode escolher que tipo de objeto se trata).\n",
    "2. O jogador usa um canhão para disparar o objeto, e manipula a direção e módulo da velocidade inicial do objeto usando o *mouse*.\n",
    "3. O objeto, em princípio, navega em movimento uniforme através do espaço.\n",
    "4. Alguns corpos celestes realizam atração gravitacional, desviando a rota do objeto.\n",
    "5. Níveis mais avançados têm mais de um corpo celeste. Pense sobre o que acontece quando há duas acelerações gravitacionais atuando sobre o objeto lançado.\n",
    "6. Use texturas para caracterizar os elementos do jogo!\n",
    "\n",
    "Anotações importantes:\n",
    "\n",
    "1. O grupo de projeto deve definir todos os elementos e parâmetros do jogo pensando em melhorar sua jogabilidade.\n",
    "2. O grupo deve enviar um link para o repositório GitHub onde está localizado o jogo.\n",
    "\n",
    "**ENTREGAS**\n",
    "* Link para o repositório onde está o jogo.\n",
    "* No `README.md` do repositório, inclua uma descrição de como jogar o jogo, como executar o programa, etc.\n",
    "* No `README.md`, inclua uma breve descrição matemática do modelo físico que você implementou.\n",
    "* Inclua também, no próprio `README.md`, um GIF com o gameplay do jogo\n",
    "\n",
    "**RUBRICA**\n",
    "\n",
    "O projeto será avaliado usando a rubrica abaixo. Os níveis são cumulativos, isto é, para passar de um nível, *todos* os requisitos dele devem ser cumpridos. As rubricas foram inspiradas nos níveis da [Taxonomia de Bloom](https://cft.vanderbilt.edu/guides-sub-pages/blooms-taxonomy/).\n",
    "\n",
    "| Nível | Descrição | [Tax. de Bloom](https://cft.vanderbilt.edu/guides-sub-pages/blooms-taxonomy/) |\n",
    "| --- | --- | --- |\n",
    "| F | Não entregue ou entregue sem completar o `README.md` ou entregue sem adições em relação ao código visto em sala | Não fez |\n",
    "| E | O jogo foi entregue, mas o `README.md` não indica como instalar ou rodar o programa. | Entender (-) |\n",
    "| D | O jogo roda com alguns travamentos ou o `README.md` não descreve bem o modelo físico usado ou não tem correpondência com o modelo implementado. | Entender | \n",
    "| C | O jogo funciona sem travar e o `README.md` está completo, mas o jogo está muito difícil de jogar devido à falta de ajuste de parâmetros (exemplo: o jogo está muito rápido). | Compreender |\n",
    "| B | O jogo funciona bem mas o código está muito confuso e sem comentários | Aplicar |\n",
    "| A | jogo obedece a todos os requisitos e o código tem uma correspondência imediata ao modelo físico descrito no `README.md` | Analisar |\n",
    "| A+ | Jogo funciona perfeitamente e, em adição aos requisitos pedidos, tem ao menos uma feature que altera o modelo físico inicialmente proposto (novas formas de interagir com o jogador, ou novos elementos com comportamentos diferentes, por exemplo) | Avaliar |\n",
    "| A++ | O jogo tem features estéticas em adição às texturas (efeitos sonoros, trilha sonora, possibilidade de customizar parâmetros de dentro do próprio jogo, etc.) | Criar |\n"
   ]
  },
  {
   "cell_type": "markdown",
   "metadata": {},
   "source": []
  }
 ],
 "metadata": {
  "kernelspec": {
   "display_name": "Python 3",
   "language": "python",
   "name": "python3"
  },
  "language_info": {
   "codemirror_mode": {
    "name": "ipython",
    "version": 3
   },
   "file_extension": ".py",
   "mimetype": "text/x-python",
   "name": "python",
   "nbconvert_exporter": "python",
   "pygments_lexer": "ipython3",
   "version": "3.10.2"
  },
  "orig_nbformat": 4,
  "vscode": {
   "interpreter": {
    "hash": "a7abaf28b3328bfea71486463e5d36ecdc2f3a9d17ce23354688b88af5e78070"
   }
  }
 },
 "nbformat": 4,
 "nbformat_minor": 2
}
